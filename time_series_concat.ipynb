{
 "cells": [
  {
   "cell_type": "code",
   "execution_count": null,
   "metadata": {},
   "outputs": [],
   "source": [
    "import cfgrib\n",
    "import xarray as xr\n",
    "\n",
    "file = ['flxf2018103100.01.2018103100.grb2',\n",
    "            'flxf2018103106.01.2018103100.grb2',\n",
    "            'flxf2018103112.01.2018103100.grb2',\n",
    "            'flxf2018103118.01.2018103100.grb2',\n",
    "            'flxf2018110100.01.2018103100.grb2'\n",
    "            ]\n",
    "\n"
   ]
  },
  {
   "cell_type": "code",
   "execution_count": null,
   "metadata": {},
   "outputs": [
    {
     "ename": "",
     "evalue": "",
     "output_type": "error",
     "traceback": [
      "\u001b[1;31mRunning cells with 'Python 3.8.13' requires ipykernel package.\n",
      "\u001b[1;31mRun the following command to install 'ipykernel' into the Python environment. \n",
      "\u001b[1;31mCommand: 'conda install -p c:\\Users\\Owner\\anaconda3\\envs\\GDAL ipykernel --update-deps --force-reinstall'"
     ]
    }
   ],
   "source": [
    "ds0 = cfgrib.open_dataset(file[0], engine = 'cfgrib', filter_by_keys={'typeOfLevel': 'surface'})\n",
    "ds1 = cfgrib.open_dataset(file[1], engine = 'cfgrib', filter_by_keys={'typeOfLevel': 'surface'})\n",
    "ds2 = cfgrib.open_dataset(file[2], engine = 'cfgrib', filter_by_keys={'typeOfLevel': 'surface'})\n",
    "ds3 = cfgrib.open_dataset(file[3], engine = 'cfgrib', filter_by_keys={'typeOfLevel': 'surface'})\n",
    "ds4 = cfgrib.open_dataset(file[4], engine = 'cfgrib', filter_by_keys={'typeOfLevel': 'surface'})\n",
    "\n",
    "dnew = xr.concat([ds0, ds1, ds2 , ds3, ds4], dim = 'time')\n",
    "display(dnew)"
   ]
  },
  {
   "cell_type": "code",
   "execution_count": null,
   "metadata": {},
   "outputs": [
    {
     "ename": "",
     "evalue": "",
     "output_type": "error",
     "traceback": [
      "\u001b[1;31mRunning cells with 'Python 3.8.13' requires ipykernel package.\n",
      "\u001b[1;31mRun the following command to install 'ipykernel' into the Python environment. \n",
      "\u001b[1;31mCommand: 'conda install -p c:\\Users\\Owner\\anaconda3\\envs\\GDAL ipykernel --update-deps --force-reinstall'"
     ]
    }
   ],
   "source": [
    "# save to a new file\n",
    "dnew.to_netcdf('CFS_Sample_Series.nc')"
   ]
  },
  {
   "cell_type": "code",
   "execution_count": null,
   "metadata": {},
   "outputs": [
    {
     "ename": "",
     "evalue": "",
     "output_type": "error",
     "traceback": [
      "\u001b[1;31mRunning cells with 'Python 3.8.13' requires ipykernel package.\n",
      "\u001b[1;31mRun the following command to install 'ipykernel' into the Python environment. \n",
      "\u001b[1;31mCommand: 'conda install -p c:\\Users\\Owner\\anaconda3\\envs\\GDAL ipykernel --update-deps --force-reinstall'"
     ]
    }
   ],
   "source": [
    "dnew.t.plot()\n",
    "\n",
    "dnew = xr.Dataset()\n",
    "\n",
    "for count, name in enumerate(file):\n",
    "    ds = cfgrib.open_dataset(name , # link to the data we are opening from\n",
    "                                        engine = 'cfgrib', # Engine We are Using (cfgrib)\n",
    "                                        filter_by_keys={'typeOfLevel': 'surface'},\n",
    "                                        )\n",
    "    \n",
    "    dnew = xr.concat([dnew, ds], dim = 'time')\n",
    "    display(dnew)\n",
    "\n",
    "dnew"
   ]
  }
 ],
 "metadata": {
  "kernelspec": {
   "display_name": "Python 3.8.13",
   "language": "python",
   "name": "python3"
  },
  "language_info": {
   "codemirror_mode": {
    "name": "ipython",
    "version": 3
   },
   "file_extension": ".py",
   "mimetype": "text/x-python",
   "name": "python",
   "nbconvert_exporter": "python",
   "pygments_lexer": "ipython3",
   "version": "3.8.13"
  },
  "orig_nbformat": 4,
  "vscode": {
   "interpreter": {
    "hash": "21b5426fef812470fe56fdcdff133077dce040f29dc8bdb7777e9b8519a2afba"
   }
  }
 },
 "nbformat": 4,
 "nbformat_minor": 2
}
